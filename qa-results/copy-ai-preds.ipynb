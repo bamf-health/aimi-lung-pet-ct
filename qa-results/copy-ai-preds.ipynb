{
 "cells": [
  {
   "cell_type": "code",
   "execution_count": 1,
   "metadata": {},
   "outputs": [],
   "source": [
    "from pathlib import Path\n",
    "import shutil\n",
    "import pandas as pd\n"
   ]
  },
  {
   "cell_type": "code",
   "execution_count": 2,
   "metadata": {},
   "outputs": [],
   "source": [
    "df = pd.read_csv(\n",
    "    \"../combined_inference_summary.csv\",\n",
    "    dtype={\"PatientID\": str, \"StudyDate\": str, \"StudyDate_suffix\": str},\n",
    ")\n"
   ]
  },
  {
   "cell_type": "code",
   "execution_count": 3,
   "metadata": {},
   "outputs": [],
   "source": [
    "out_dir = Path(\"ai-segmentations\")\n",
    "out_dir.mkdir(exist_ok=True)\n",
    "\n",
    "# copy the file at df.Segmentation to a filename that is ai_{PatientID}_{StudyDate}_{StudyDate_suffix}.nii.gz\n",
    "for i, row in df.iterrows():\n",
    "    src = Path(row.Segmentation)\n",
    "    dst = Path(\n",
    "        f\"ai-segmentations/ai_{row.PatientID}_{row.StudyDate}_{row.StudyDate_suffix}.nii.gz\"\n",
    "    )\n",
    "    shutil.copy(src, dst)\n"
   ]
  },
  {
   "cell_type": "code",
   "execution_count": null,
   "metadata": {},
   "outputs": [],
   "source": []
  }
 ],
 "metadata": {
  "kernelspec": {
   "display_name": ".venv",
   "language": "python",
   "name": "python3"
  },
  "language_info": {
   "codemirror_mode": {
    "name": "ipython",
    "version": 3
   },
   "file_extension": ".py",
   "mimetype": "text/x-python",
   "name": "python",
   "nbconvert_exporter": "python",
   "pygments_lexer": "ipython3",
   "version": "3.10.6"
  },
  "orig_nbformat": 4
 },
 "nbformat": 4,
 "nbformat_minor": 2
}
